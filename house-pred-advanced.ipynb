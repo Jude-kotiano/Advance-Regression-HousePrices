{
 "cells": [
  {
   "cell_type": "code",
   "execution_count": 126,
   "id": "3b500faf",
   "metadata": {},
   "outputs": [],
   "source": [
    "import numpy as np \n",
    "import pandas as pd \n",
    "import seaborn as sns\n",
    "import matplotlib.pyplot as plt\n",
    "\n",
    "from sklearn.feature_selection import mutual_info_regression\n",
    "from sklearn.preprocessing import StandardScaler,MinMaxScaler,PowerTransformer,OneHotEncoder,OrdinalEncoder\n",
    "from category_encoders import MEstimateEncoder\n",
    "from sklearn.model_selection import cross_val_score,GridSearchCV\n",
    "from sklearn.impute import SimpleImputer\n",
    "from sklearn.decomposition import PCA\n",
    "from sklearn.pipeline import Pipeline\n",
    "from sklearn.base import BaseEstimator, TransformerMixin\n",
    "\n",
    "from sklearn.ensemble import RandomForestRegressor,AdaBoostRegressor\n",
    "from catboost import CatBoostRegressor\n",
    "from sklearn.tree import DecisionTreeRegressor\n",
    "from sklearn.linear_model import Ridge,Lasso\n",
    "from sklearn.svm import SVR\n",
    "\n",
    "import tensorflow as tf\n",
    "from tensorflow import keras\n",
    "from sklearn.ensemble import StackingRegressor\n",
    "\n",
    "\n",
    "\n",
    "from xgboost import XGBRegressor\n"
   ]
  },
  {
   "cell_type": "code",
   "execution_count": 127,
   "id": "b5076697",
   "metadata": {},
   "outputs": [
    {
     "name": "stdout",
     "output_type": "stream",
     "text": [
      "MSSubClass         0\n",
      "MSZoning           0\n",
      "LotFrontage      259\n",
      "LotArea            0\n",
      "Street             0\n",
      "                ... \n",
      "MiscVal            0\n",
      "MoSold             0\n",
      "YrSold             0\n",
      "SaleType           0\n",
      "SaleCondition      0\n",
      "Length: 79, dtype: int64\n"
     ]
    }
   ],
   "source": [
    "train_df = pd.read_csv('train.csv',index_col=0)\n",
    "test_df = pd.read_csv('test.csv',index_col=0)\n",
    "\n",
    "\n",
    "X_train = train_df.drop('SalePrice', axis=1)\n",
    "y_train = train_df['SalePrice']\n",
    "\n",
    "X_test=test_df\n",
    "\n",
    "X_train.describe()\n",
    "\n",
    "print(X_train.isnull().sum())"
   ]
  },
  {
   "cell_type": "code",
   "execution_count": 128,
   "id": "0c410707",
   "metadata": {},
   "outputs": [
    {
     "name": "stdout",
     "output_type": "stream",
     "text": [
      "['LotFrontage', 'Alley', 'MasVnrType', 'MasVnrArea', 'BsmtQual', 'BsmtCond', 'BsmtExposure', 'BsmtFinType1', 'BsmtFinType2', 'Electrical', 'FireplaceQu', 'GarageType', 'GarageYrBlt', 'GarageFinish', 'GarageQual', 'GarageCond', 'PoolQC', 'Fence', 'MiscFeature']\n"
     ]
    }
   ],
   "source": [
    "numerical_cols=X_train.select_dtypes(exclude=['object'])\n",
    "categorical_cols=X_train.select_dtypes(include=['object'])\n",
    "cols_with_missing_values=[cols for cols in X_train.columns if X_train[cols].isnull().sum().any()]\n",
    "print(cols_with_missing_values)\n"
   ]
  },
  {
   "cell_type": "code",
   "execution_count": 129,
   "id": "f61d4e70",
   "metadata": {},
   "outputs": [],
   "source": [
    "ordinal_encoder=OrdinalEncoder()\n",
    "hot_encoder=OneHotEncoder(handle_unknown='ignore')\n",
    "\n",
    "numerical_imputer=SimpleImputer(strategy='mean')\n",
    "categorical_imputer=SimpleImputer(strategy='most_frequent')\n",
    "\n",
    "standard_scaler=StandardScaler()\n",
    "min_max_scaler=MinMaxScaler()\n",
    "power_transformer=PowerTransformer()\n"
   ]
  },
  {
   "cell_type": "code",
   "execution_count": 130,
   "id": "76fce95e",
   "metadata": {},
   "outputs": [],
   "source": [
    "my_pipeline1=Pipeline(steps=[\n",
    "    ('numerical_imputer',numerical_imputer),\n",
    "    ('standard_scaler',standard_scaler)  \n",
    "])"
   ]
  },
  {
   "cell_type": "code",
   "execution_count": 131,
   "id": "55635a49",
   "metadata": {},
   "outputs": [],
   "source": [
    "my_pipeline2=Pipeline(steps=[\n",
    "    ('numerical_imputer',numerical_imputer),\n",
    "    ('min_max_scaler',min_max_scaler)\n",
    "])"
   ]
  },
  {
   "cell_type": "code",
   "execution_count": 132,
   "id": "cb209574",
   "metadata": {},
   "outputs": [],
   "source": [
    "my_pipeline3=Pipeline(steps=[\n",
    "    ('numerical_imputer',numerical_imputer),\n",
    "    ('power_transformer',power_transformer)   \n",
    "])"
   ]
  },
  {
   "cell_type": "code",
   "execution_count": 133,
   "id": "d854155d",
   "metadata": {},
   "outputs": [],
   "source": [
    "my_pipeline4=Pipeline(steps=[\n",
    "    ('categorical_imputer',categorical_imputer),\n",
    "    ('ordinal_encoder',ordinal_encoder)\n",
    "    ])"
   ]
  },
  {
   "cell_type": "code",
   "execution_count": 134,
   "id": "1c183555",
   "metadata": {},
   "outputs": [],
   "source": [
    "my_pipeline5=Pipeline(steps=[\n",
    "    ('categorical_imputer',categorical_imputer),\n",
    "    ('one_hot_encoder',hot_encoder)\n",
    "])"
   ]
  },
  {
   "cell_type": "code",
   "execution_count": 135,
   "id": "3a29d450",
   "metadata": {},
   "outputs": [],
   "source": [
    "class CustomEncoder(BaseEstimator,TransformerMixin):\n",
    "    \n",
    "    def __init__(self,threshold=10):\n",
    "        self.threshold=threshold\n",
    "        self.one_hot_cols=[]\n",
    "        self.ordinal_cols=[]\n",
    "        \n",
    "    def fit(self,X, y=None):\n",
    "        for col in X.columns:\n",
    "            if X[col].nunique()<self.threshold:\n",
    "                self.one_hot_cols.append(col)\n",
    "            else:\n",
    "                self.ordinal_cols.append(col)\n",
    "        return self\n",
    "    \n",
    "    def transform(self,X,y=None):\n",
    "        one_hot_encoder=OneHotEncoder(handle_unknown='ignore')\n",
    "        ordinal_encoder=OneHotEncoder()\n",
    "        \n",
    "        one_hot_encoded=one_hot_encoder.fit_transform(X[self.one_hot_cols])\n",
    "        ordinal_encoded=ordinal_encoder.fit_transform(X[self.ordinal_cols])\n",
    "        \n",
    "        one_hot_df=pd.DataFrame(one_hot_encoded.toarray(),columns=self.one_hot_cols)\n",
    "        ordinal_df=pd.DataFrame(ordinal_encoded,columns=self.ordinal_cols)\n",
    "        \n",
    "        return pd.concat([one_hot_df,ordinal_df],axis=1)\n",
    "    \n",
    "    \n",
    "my_pipeline6=Pipeline(steps=[\n",
    "    ('categorical_imputer',categorical_imputer),\n",
    "    ('custom_encoder',CustomEncoder(threshold=10))\n",
    "])\n",
    "    "
   ]
  },
  {
   "cell_type": "code",
   "execution_count": 136,
   "id": "6af20b47",
   "metadata": {},
   "outputs": [],
   "source": [
    "def fit_pca(X_train,X_test,n_components=15):\n",
    "    pca=PCA(n_components=n_components)\n",
    "    pca.fit(X_train)\n",
    "    X_train_reduced=pca.transform(X_train)\n",
    "    X_test_reduced=pca.transform(X_test)\n",
    "    \n",
    "    return X_train_reduced,X_test_reduced"
   ]
  },
  {
   "cell_type": "code",
   "execution_count": 137,
   "id": "0b2d4654",
   "metadata": {},
   "outputs": [],
   "source": [
    "def rand_forest_mod(X_train,y_train):\n",
    "    model=RandomForestRegressor(random_state=0)\n",
    "    param_grid={\n",
    "        'n_estimator':[i for i in range(50,300,50)],\n",
    "        'criterion':['gini','entropy'],\n",
    "        'bootstrap':[True,False],\n",
    "        'max_features':['auto','log2','sqrt','None']\n",
    "        \n",
    "    }\n",
    "    \n",
    "    search_cv=GridSearchCV(model,param_grid,cv=5)\n",
    "    search_cv.fit(X_train,y_train)\n",
    "    best_params = search_cv.best_params_\n",
    "    best_model = search_cv.best_estimator_\n",
    "    best_score=search_cv.best_score_\n",
    "    \n",
    "    return best_model,best_params,best_score\n",
    "    "
   ]
  },
  {
   "cell_type": "code",
   "execution_count": 138,
   "id": "76078e52",
   "metadata": {},
   "outputs": [],
   "source": [
    "def xgb_reg(X_train,y_train):\n",
    "    model=XGBRegressor()\n",
    "    \n",
    "    param_grid = {\n",
    "    'n_estimators': [i for i in range(100,1000,80)],\n",
    "    'max_depth': [3, 4, 5],\n",
    "    'learning_rate': [0.01,0.05,0.1, 0.2],\n",
    "    'subsample': [0.8, 0.9, 1.0],\n",
    "    'colsample_bytree': [0.8, 0.9, 1.0],\n",
    "    }\n",
    "    \n",
    "    grid_search=GridSearchCV(model,param_grid,cv=5)\n",
    "    grid_search.fit(X_train,y_train)\n",
    "    best_param=grid_search.best_params_\n",
    "    best_score=grid_search.best_score_\n",
    "    best_estimator=grid_search.best_estimator_\n",
    "    \n",
    "    return best_estimator,best_param,best_score\n"
   ]
  },
  {
   "cell_type": "code",
   "execution_count": 139,
   "id": "7393b8ee",
   "metadata": {},
   "outputs": [],
   "source": [
    "def decision_tree(X_train,y_train):\n",
    "    model=DecisionTreeRegressor(random_state=0)\n",
    "    param_grid={\n",
    "        'criterion':['gini','entropy'],\n",
    "        'max_features':['auto','log2','sqrt','None']\n",
    "    }\n",
    "    grid_search=GridSearchCV(model,param_grid,cv=5)\n",
    "    best_param=grid_search.best_params_\n",
    "    best_estimator=grid_search.best_estimator_\n",
    "    best_score=grid_search.best_score_\n",
    "    \n",
    "    return best_param,best_estimator,best_score\n",
    "    "
   ]
  },
  {
   "cell_type": "code",
   "execution_count": 140,
   "id": "a04e2743",
   "metadata": {},
   "outputs": [],
   "source": [
    "def adaboost(X_train,y_train):\n",
    "    model=AdaBoostRegressor(random_state=0)\n",
    "    param_grid={\n",
    "        'learning_rate':[0.01,0.05,0.1,0.5,0.8,1.0],\n",
    "        'loss':['linear','square','exponential'],\n",
    "        'base_estimator':['DecisionTreeRegressor','svr','LinearRegression'],\n",
    "        'n_estimator':[i for i in range(50,300,50)]\n",
    "        \n",
    "    }\n",
    "    \n",
    "    grid_search=GridSearchCV(model,param_grid,cv=5)\n",
    "    grid_search.fit(X_train,y_train)\n",
    "    best_score=grid_search.best_score_\n",
    "    best_estimator=grid_search.best_estimator_\n",
    "    best_params=grid_search.best_params_\n",
    "    \n",
    "    return best_score,best_estimator,best_params\n",
    "    "
   ]
  },
  {
   "cell_type": "code",
   "execution_count": 141,
   "id": "456e8b4f",
   "metadata": {},
   "outputs": [],
   "source": [
    "def catboost(X_train,y_train):\n",
    "    model=CatBoostRegressor()\n",
    "    \n",
    "    param_grid = {\n",
    "    'learning_rate': [0.01, 0.1, 0.2],\n",
    "    'depth': [4, 6, 8],\n",
    "    'n_estimators': [100, 200, 300]\n",
    "    }\n",
    "    \n",
    "    grid_search=GridSearchCV(model,param_grid,cv=5)\n",
    "    grid_search.fit(X_train,y_train)\n",
    "    best_score=grid_search.best_score_\n",
    "    best_params=grid_search.best_params_\n",
    "    best_estimator=grid_search.best_estimator_\n",
    "    \n",
    "    return best_score,best_params,best_estimator"
   ]
  },
  {
   "cell_type": "code",
   "execution_count": 142,
   "id": "3e3d6cb1",
   "metadata": {},
   "outputs": [],
   "source": [
    "def ridge(X_train,y_train):\n",
    "    model=Ridge()\n",
    "    param_grid={\n",
    "        'alpha': [0.001, 0.01, 0.1, 1, 10]\n",
    "    }\n",
    "    \n",
    "    grid_search=GridSearchCV(model,param_grid,cv=5)\n",
    "    grid_search.fit(X_train,y_train)\n",
    "    best_score=grid_search.best_score_\n",
    "    best_estimator=grid_search.best_estimator_\n",
    "    best_params=grid_search.best_params_\n",
    "    \n",
    "    return best_score,best_estimator,best_params\n",
    "    "
   ]
  },
  {
   "cell_type": "code",
   "execution_count": 143,
   "id": "ae324815",
   "metadata": {},
   "outputs": [],
   "source": [
    "def lasso(X_train,y_train):\n",
    "    model=Lasso()\n",
    "    param_grid = {\n",
    "        'alpha': [0.001, 0.01, 0.1, 1, 10]\n",
    "        }\n",
    "    \n",
    "    grid_search=GridSearchCV(model,param_grid,cv=5)\n",
    "    grid_search.fit(X_train,y_train)\n",
    "    best_score=grid_search.best_score_\n",
    "    best_estimator=grid_search.best_estimator_\n",
    "    best_params=grid_search.best_params_\n",
    "    \n",
    "    return best_score,best_estimator,best_params\n",
    "    "
   ]
  },
  {
   "cell_type": "code",
   "execution_count": 144,
   "id": "5cecbaa8",
   "metadata": {},
   "outputs": [],
   "source": [
    "def svm_svr(X_train,y_train):\n",
    "    model=SVR()\n",
    "    param_grid={\n",
    "         'kernel': ['linear', 'poly', 'rbf', 'sigmoid'],\n",
    "         'C': [0.01, 0.1, 1, 10, 100],\n",
    "         'degree': [2, 3, 4],\n",
    "         'gamma': [0.1, 1, 'scale', 'auto'],\n",
    "         'coef0': [0.0, 0.1, 1.0],\n",
    "         'epsilon': [0.01, 0.1, 0.2, 0.5]\n",
    "\n",
    "    }\n",
    "    \n",
    "    grid_search=GridSearchCV(model,param_grid,cv=5)\n",
    "    grid_search.fit(X_train,y_train)\n",
    "    best_score=grid_search.best_score_\n",
    "    best_estimator=grid_search.best_estimator_\n",
    "    best_params=grid_search.best_params_\n",
    "    \n",
    "    return best_score,best_estimator,best_params\n",
    "    "
   ]
  },
  {
   "cell_type": "code",
   "execution_count": 145,
   "id": "c5185b9f",
   "metadata": {},
   "outputs": [],
   "source": [
    "\n",
    "def build_model(X_train,y_train,hidden_layer_sizes=(32, 32), activation='relu'):\n",
    "    model = keras.models.Sequential([\n",
    "        keras.layers.Dense(hidden_layer_sizes[0], activation=activation, input_shape=(X_train.shape[1],)),\n",
    "        keras.layers.Dense(hidden_layer_sizes[1], activation=activation),\n",
    "        keras.layers.Dense(1, activation='linear')  \n",
    "    ])\n",
    "    model.compile(loss='mean_squared_error', optimizer='adam')\n",
    "    param_grid = {\n",
    "   'hidden_layer_sizes': [(32, 32), (64, 64), (128, 128)],\n",
    "   'activation': ['relu', 'tanh']\n",
    "    }\n",
    "    \n",
    "    nn_regressor = StackingRegressor(build_fn=build_model, verbose=0)\n",
    "    grid_search = GridSearchCV(estimator=nn_regressor, param_grid=param_grid, cv=3)\n",
    "\n",
    "    grid_search.fit(X_train, y_train)\n",
    "\n",
    "    best_params = grid_search.best_params_\n",
    "    best_model = grid_search.best_estimator_\n",
    "    best_score=grid_search.best_score_\n",
    "\n",
    "    return best_model,best_params,best_score\n",
    "\n"
   ]
  }
 ],
 "metadata": {
  "kernelspec": {
   "display_name": "Python 3 (ipykernel)",
   "language": "python",
   "name": "python3"
  },
  "language_info": {
   "codemirror_mode": {
    "name": "ipython",
    "version": 3
   },
   "file_extension": ".py",
   "mimetype": "text/x-python",
   "name": "python",
   "nbconvert_exporter": "python",
   "pygments_lexer": "ipython3",
   "version": "3.8.10"
  }
 },
 "nbformat": 4,
 "nbformat_minor": 5
}
