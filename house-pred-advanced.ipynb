{
 "cells": [
  {
   "cell_type": "code",
   "execution_count": 35,
   "id": "3b500faf",
   "metadata": {},
   "outputs": [],
   "source": [
    "import numpy as np \n",
    "import pandas as pd \n",
    "import seaborn as sns\n",
    "import matplotlib.pyplot as plt\n",
    "\n",
    "from sklearn.feature_selection import mutual_info_regression\n",
    "from sklearn.preprocessing import StandardScaler,MinMaxScaler,PowerTransformer,OneHotEncoder,OrdinalEncoder\n",
    "from category_encoders import MEstimateEncoder\n",
    "from sklearn.model_selection import train_test_split,cross_val_score,GridSearchCV,RandomizedSearchCV\n",
    "from sklearn.impute import SimpleImputer\n",
    "from sklearn.compose import ColumnTransformer\n",
    "from sklearn.decomposition import PCA\n",
    "from sklearn.pipeline import Pipeline\n",
    "\n",
    "from sklearn.ensemble import RandomForestRegressor,AdaBoostRegressor\n",
    "from catboost import CatBoostRegressor\n",
    "from sklearn.tree import DecisionTreeRegressor\n",
    "from sklearn.linear_model import LinearRegression,Ridge,Lasso\n",
    "from sklearn.svm import SVR\n",
    "\n",
    "from tensorflow import keras \n",
    "import tensorflow as tf\n",
    "\n",
    "from xgboost import XGBRegressor\n"
   ]
  },
  {
   "cell_type": "code",
   "execution_count": 36,
   "id": "b5076697",
   "metadata": {},
   "outputs": [
    {
     "name": "stdout",
     "output_type": "stream",
     "text": [
      "MSSubClass         0\n",
      "MSZoning           0\n",
      "LotFrontage      259\n",
      "LotArea            0\n",
      "Street             0\n",
      "                ... \n",
      "MiscVal            0\n",
      "MoSold             0\n",
      "YrSold             0\n",
      "SaleType           0\n",
      "SaleCondition      0\n",
      "Length: 79, dtype: int64\n"
     ]
    }
   ],
   "source": [
    "train_df = pd.read_csv('train.csv',index_col=0)\n",
    "test_df = pd.read_csv('test.csv')\n",
    "\n",
    "\n",
    "X_train = train_df.drop('SalePrice', axis=1)\n",
    "y_train = train_df['SalePrice']\n",
    "\n",
    "X_train.describe()\n",
    "\n",
    "print(X_train.isnull().sum())"
   ]
  },
  {
   "cell_type": "code",
   "execution_count": 37,
   "id": "0c410707",
   "metadata": {},
   "outputs": [
    {
     "name": "stdout",
     "output_type": "stream",
     "text": [
      "['LotFrontage', 'Alley', 'MasVnrType', 'MasVnrArea', 'BsmtQual', 'BsmtCond', 'BsmtExposure', 'BsmtFinType1', 'BsmtFinType2', 'Electrical', 'FireplaceQu', 'GarageType', 'GarageYrBlt', 'GarageFinish', 'GarageQual', 'GarageCond', 'PoolQC', 'Fence', 'MiscFeature']\n"
     ]
    }
   ],
   "source": [
    "numerical_cols=X_train.select_dtypes(exclude=['object'])\n",
    "categorical_cols=X_train.select_dtypes(include=['object'])\n",
    "cols_with_missing_values=[cols for cols in X_train.columns if X_train[cols].isnull().sum().any()]\n",
    "print(cols_with_missing_values)\n"
   ]
  },
  {
   "cell_type": "code",
   "execution_count": 38,
   "id": "76c8c1fd",
   "metadata": {},
   "outputs": [
    {
     "name": "stdout",
     "output_type": "stream",
     "text": [
      "available\n"
     ]
    }
   ],
   "source": [
    "#x train after dropping null columns is x_train_drop\n",
    "X_train_drop=X_train.copy()\n",
    "X_train_drop=X_train_drop.dropna(axis=1)\n",
    "\n",
    "if 'LotFrontage' in X_train.columns:\n",
    "    print('available')\n",
    "    # Apply preprocessing steps to 'LotFrontage'\n",
    "    # ...\n",
    "else:\n",
    "    print(\"Column 'LotFrontage' not found in the DataFrame.\")\n"
   ]
  },
  {
   "cell_type": "code",
   "execution_count": 39,
   "id": "abe4c52e",
   "metadata": {},
   "outputs": [
    {
     "name": "stdout",
     "output_type": "stream",
     "text": [
      "Column MSZoning has 5 unique values.\n",
      "Column Street has 2 unique values.\n",
      "Column Alley has 2 unique values.\n",
      "Column LotShape has 4 unique values.\n",
      "Column LandContour has 4 unique values.\n",
      "Column Utilities has 2 unique values.\n",
      "Column LotConfig has 5 unique values.\n",
      "Column LandSlope has 3 unique values.\n",
      "Column Neighborhood has 25 unique values.\n",
      "Column Condition1 has 9 unique values.\n",
      "Column Condition2 has 8 unique values.\n",
      "Column BldgType has 5 unique values.\n",
      "Column HouseStyle has 8 unique values.\n",
      "Column RoofStyle has 6 unique values.\n",
      "Column RoofMatl has 8 unique values.\n",
      "Column Exterior1st has 15 unique values.\n",
      "Column Exterior2nd has 16 unique values.\n",
      "Column MasVnrType has 4 unique values.\n",
      "Column ExterQual has 4 unique values.\n",
      "Column ExterCond has 5 unique values.\n",
      "Column Foundation has 6 unique values.\n",
      "Column BsmtQual has 4 unique values.\n",
      "Column BsmtCond has 4 unique values.\n",
      "Column BsmtExposure has 4 unique values.\n",
      "Column BsmtFinType1 has 6 unique values.\n",
      "Column BsmtFinType2 has 6 unique values.\n",
      "Column Heating has 6 unique values.\n",
      "Column HeatingQC has 5 unique values.\n",
      "Column CentralAir has 2 unique values.\n",
      "Column Electrical has 5 unique values.\n",
      "Column KitchenQual has 4 unique values.\n",
      "Column Functional has 7 unique values.\n",
      "Column FireplaceQu has 5 unique values.\n",
      "Column GarageType has 6 unique values.\n",
      "Column GarageFinish has 3 unique values.\n",
      "Column GarageQual has 5 unique values.\n",
      "Column GarageCond has 5 unique values.\n",
      "Column PavedDrive has 3 unique values.\n",
      "Column PoolQC has 3 unique values.\n",
      "Column Fence has 4 unique values.\n",
      "Column MiscFeature has 4 unique values.\n",
      "Column SaleType has 9 unique values.\n",
      "Column SaleCondition has 6 unique values.\n"
     ]
    }
   ],
   "source": [
    "for col in categorical_cols.columns:\n",
    "    num_unique = categorical_cols[col].nunique()\n",
    "    print(f\"Column {col} has {num_unique} unique values.\")\n",
    "    \n",
    "#x train after imputing is x_train\n",
    "numerical_imputer = SimpleImputer(strategy='mean')\n",
    "categorical_imputer = SimpleImputer(strategy='most_frequent')\n",
    "one_hot_encoder = OneHotEncoder(handle_unknown='ignore')\n",
    "ordinal_encoder=  OrdinalEncoder()\n",
    "\n",
    "preprocessor = ColumnTransformer(\n",
    "    transformers=[\n",
    "        ('num', Pipeline(steps=[\n",
    "            ('num_imputer', numerical_imputer),\n",
    "            ('scaler', StandardScaler())  # StandardScaler for numerical features\n",
    "        ]), numerical_cols.columns),\n",
    "        ('cat_ordinal', Pipeline(steps=[\n",
    "            ('cat_ordinal_imputer', categorical_imputer),\n",
    "            ('cat_ordinal', ordinal_encoder)  # OrdinalEncoder for categorical features with more than 10 unique values\n",
    "        ]), [col for col in categorical_cols.columns if categorical_cols[col].nunique() >= 10]),\n",
    "        ('cat_one_hot', Pipeline(steps=[\n",
    "            ('cat_one_hot_imputer', categorical_imputer),\n",
    "            ('one_hot', one_hot_encoder)  # OneHotEncoder for categorical features with less than 10 unique values\n",
    "        ]), [col for col in categorical_cols.columns if categorical_cols[col].nunique() < 10])\n",
    "    ])\n",
    "\n",
    "\n",
    "X_train_imputed=preprocessor.fit(X_train)\n",
    "#X_train_drop=preprocessor.fit(X_train_drop)    "
   ]
  },
  {
   "cell_type": "code",
   "execution_count": 40,
   "id": "841a18aa",
   "metadata": {},
   "outputs": [
    {
     "data": {
      "image/png": "[encoded data removed]",
      "text/plain": [
       "<Figure size 1080x1080 with 1 Axes>"
      ]
     },
     "metadata": {
      "needs_background": "light"
     },
     "output_type": "display_data"
    }
   ],
   "source": [
    "\n",
    "def make_mi_scores(X, y):\n",
    "    X = X.copy()\n",
    "    X=X.dropna(axis=1)\n",
    "    for colname in X.select_dtypes([\"object\", \"category\"]):\n",
    "        X[colname], _ = X[colname].factorize()\n",
    "    discrete_features = [pd.api.types.is_integer_dtype(t) for t in X.dtypes]\n",
    "    mi_scores = mutual_info_regression(X, y, discrete_features=discrete_features, random_state=0)\n",
    "    mi_scores = pd.Series(mi_scores, name=\"MI Scores\", index=X.columns)\n",
    "    mi_scores = mi_scores.sort_values(ascending=False)\n",
    "    return mi_scores\n",
    "\n",
    "\n",
    "def plot_mi_scores(scores):\n",
    "    scores = scores.sort_values(ascending=True)\n",
    "    width = np.arange(len(scores))\n",
    "    ticks = list(scores.index)\n",
    "    plt.figure(figsize=(15,15))\n",
    "    plt.barh(width, scores)\n",
    "    plt.yticks(width, ticks)\n",
    "    plt.title(\"Mutual Information Scores\")\n",
    "    plt.show() \n",
    "    \n",
    "mi_score=make_mi_scores(X_train,y_train)\n",
    "plot_mi_scores(mi_score)"
   ]
  },
  {
   "cell_type": "code",
   "execution_count": 5,
   "id": "054fb8f1",
   "metadata": {},
   "outputs": [
    {
     "ename": "NameError",
     "evalue": "name 'mi_score' is not defined",
     "output_type": "error",
     "traceback": [
      "\u001b[0;31m---------------------------------------------------------------------------\u001b[0m",
      "\u001b[0;31mNameError\u001b[0m                                 Traceback (most recent call last)",
      "\u001b[1;32m/home/jude/Advance-Regression-HousePrices/house-pred-advanced.ipynb Cell 7\u001b[0m line \u001b[0;36m3\n\u001b[1;32m      <a href='vscode-notebook-cell:/home/jude/Advance-Regression-HousePrices/house-pred-advanced.ipynb#W6sZmlsZQ%3D%3D?line=0'>1</a>\u001b[0m threshold \u001b[39m=\u001b[39m \u001b[39m0.1\u001b[39m \n\u001b[0;32m----> <a href='vscode-notebook-cell:/home/jude/Advance-Regression-HousePrices/house-pred-advanced.ipynb#W6sZmlsZQ%3D%3D?line=2'>3</a>\u001b[0m selected_features \u001b[39m=\u001b[39m mi_score[mi_score \u001b[39m>\u001b[39m threshold]\u001b[39m.\u001b[39mindex\n\u001b[1;32m      <a href='vscode-notebook-cell:/home/jude/Advance-Regression-HousePrices/house-pred-advanced.ipynb#W6sZmlsZQ%3D%3D?line=4'>5</a>\u001b[0m X_train_selected_1 \u001b[39m=\u001b[39m X_train_imputed[selected_features]\n",
      "\u001b[0;31mNameError\u001b[0m: name 'mi_score' is not defined"
     ]
    }
   ],
   "source": [
    "\n",
    "threshold = 0.1 \n",
    "\n",
    "selected_features = mi_score[mi_score > threshold].index\n",
    "\n",
    "X_train_selected_1 = X_train_imputed[selected_features]\n"
   ]
  },
  {
   "cell_type": "code",
   "execution_count": 3,
   "id": "0b2d4654",
   "metadata": {},
   "outputs": [],
   "source": [
    "def rand_forest_mod(X_train,y_train):\n",
    "    model=RandomForestRegressor(random_state=0)\n",
    "    param_grid={\n",
    "        'n_estimator':[i for i in range(50,300,50)],\n",
    "        'criterion':['gini','entropy'],\n",
    "        'bootstrap':[True,False],\n",
    "        'max_features':['auto','log2','sqrt','None']\n",
    "        \n",
    "    }\n",
    "    \n",
    "    search_cv=GridSearchCV(model,param_grid,cv=5)\n",
    "    search_cv.fit(X_train,y_train)\n",
    "    best_params = search_cv.best_params_\n",
    "    best_model = search_cv.best_estimator_\n",
    "    best_score=search_cv.best_score_\n",
    "    \n",
    "    return best_model,best_params,best_score\n",
    "    "
   ]
  },
  {
   "cell_type": "code",
   "execution_count": 4,
   "id": "76078e52",
   "metadata": {},
   "outputs": [],
   "source": [
    "def xgb_reg(X_train,y_train):\n",
    "    model=XGBRegressor()\n",
    "    \n",
    "    param_grid = {\n",
    "    'n_estimators': [i for i in range(100,1000,80)],\n",
    "    'max_depth': [3, 4, 5],\n",
    "    'learning_rate': [0.01,0.05,0.1, 0.2],\n",
    "    'subsample': [0.8, 0.9, 1.0],\n",
    "    'colsample_bytree': [0.8, 0.9, 1.0],\n",
    "    }\n",
    "    \n",
    "    grid_search=GridSearchCV(model,param_grid,cv=5)\n",
    "    grid_search.fit(X_train,y_train)\n",
    "    best_param=grid_search.best_params_\n",
    "    best_score=grid_search.best_score_\n",
    "    best_estimator=grid_search.best_estimator_\n",
    "    \n",
    "    return best_estimator,best_param,best_score\n"
   ]
  },
  {
   "cell_type": "code",
   "execution_count": null,
   "id": "7393b8ee",
   "metadata": {},
   "outputs": [],
   "source": [
    "def decision_tree(X_train,y_train):\n",
    "    model=DecisionTreeRegressor(random_state=0)\n",
    "    param_grid={\n",
    "        'criterion':['gini','entropy'],\n",
    "        'max_features':['auto','log2','sqrt','None']\n",
    "    }\n",
    "    grid_search=GridSearchCV(model,param_grid,cv=5)\n",
    "    best_param=grid_search.best_params_\n",
    "    best_estimator=grid_search.best_estimator_\n",
    "    best_score=grid_search.best_score_\n",
    "    \n",
    "    return best_param,best_estimator,best_score\n",
    "    "
   ]
  },
  {
   "cell_type": "code",
   "execution_count": null,
   "id": "a04e2743",
   "metadata": {},
   "outputs": [],
   "source": [
    "def adaboost(X_train,y_train):\n",
    "    model=AdaBoostRegressor()\n",
    "    param_grid={\n",
    "        \n",
    "    }\n",
    "    \n",
    "    grid_search=GridSearchCV(model,param_grid,cv=5)\n",
    "    grid_search.fit(X_train,y_train)\n",
    "    best_score=grid_search.best_score_\n",
    "    best_estimator=grid_search.best_estimator_\n",
    "    best_params=grid_search.best_params_\n",
    "    \n",
    "    return best_score,best_estimator,best_params\n",
    "    "
   ]
  },
  {
   "cell_type": "code",
   "execution_count": null,
   "id": "3e3d6cb1",
   "metadata": {},
   "outputs": [],
   "source": [
    "def linear_reg(X_train,y_train):\n",
    "    model=LinearRegression()\n",
    "    param_grid={\n",
    "        \n",
    "    }\n",
    "    \n",
    "    grid_search=GridSearchCV(model,param_grid,cv=5)\n",
    "    grid_search.fit(X_train,y_train)\n",
    "    best_score=grid_search.best_score_\n",
    "    best_estimator=grid_search.best_estimator_\n",
    "    best_params=grid_search.best_params_\n",
    "    \n",
    "    return best_score,best_estimator,best_params\n",
    "    "
   ]
  },
  {
   "cell_type": "code",
   "execution_count": null,
   "id": "ae324815",
   "metadata": {},
   "outputs": [],
   "source": [
    "def lasso(X_train,y_train):\n",
    "    model=Lasso()\n",
    "    param_grid={\n",
    "        \n",
    "    }\n",
    "    \n",
    "    grid_search=GridSearchCV(model,param_grid,cv=5)\n",
    "    grid_search.fit(X_train,y_train)\n",
    "    best_score=grid_search.best_score_\n",
    "    best_estimator=grid_search.best_estimator_\n",
    "    best_params=grid_search.best_params_\n",
    "    \n",
    "    return best_score,best_estimator,best_params\n",
    "    "
   ]
  },
  {
   "cell_type": "code",
   "execution_count": null,
   "id": "5cecbaa8",
   "metadata": {},
   "outputs": [],
   "source": [
    "def svm_svr(X_train,y_train):\n",
    "    model=SVR()\n",
    "    param_grid={\n",
    "        \n",
    "    }\n",
    "    \n",
    "    grid_search=GridSearchCV(model,param_grid,cv=5)\n",
    "    grid_search.fit(X_train,y_train)\n",
    "    best_score=grid_search.best_score_\n",
    "    best_estimator=grid_search.best_estimator_\n",
    "    best_params=grid_search.best_params_\n",
    "    \n",
    "    return best_score,best_estimator,best_params\n",
    "    "
   ]
  }
 ],
 "metadata": {
  "kernelspec": {
   "display_name": "Python 3 (ipykernel)",
   "language": "python",
   "name": "python3"
  },
  "language_info": {
   "codemirror_mode": {
    "name": "ipython",
    "version": 3
   },
   "file_extension": ".py",
   "mimetype": "text/x-python",
   "name": "python",
   "nbconvert_exporter": "python",
   "pygments_lexer": "ipython3",
   "version": "3.8.10"
  }
 },
 "nbformat": 4,
 "nbformat_minor": 5
}
