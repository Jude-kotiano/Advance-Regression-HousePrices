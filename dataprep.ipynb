import numpy as np
import pandas as pd
import seaborn as sns

def read_data(path):
  data=None
  try:
    data=pd.read_csv(path)
  except:
    print("invalid path")
  return data
