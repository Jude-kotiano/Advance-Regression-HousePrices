{
 "cells": [
  {
   "cell_type": "code",
   "execution_count": 12,
   "id": "c2a73355",
   "metadata": {},
   "outputs": [],
   "source": [
    "import subprocess\n",
    "\n",
    "data = subprocess.check_output(['nmcli', '-t', '-f', 'CONNECTION', 'dev']).decode('utf-8', errors=\"backslashreplace\").split('\\n')\n",
    "\n",
    "profiles = [i.split(\":\")[1][1:-1] for i in data if \"HIDAN\" in i]\n",
    "\n",
    "for i in profiles:\n",
    "    try:\n",
    "        cmd_output = subprocess.check_output(['nmcli', '-t', '-f', '802-11-wireless.ssid', 'connection', 'show', i])\n",
    "        ssid = cmd_output.decode('utf-8', errors=\"backslashreplace\").strip().split(\":\")[1][1:-1]\n",
    "        print (\"{:<30}|  {:<}\".format(i, ssid))\n",
    "    except subprocess.CalledProcessError as e:\n",
    "        print(\"Error:\", e)\n"
   ]
  },
  {
   "cell_type": "code",
   "execution_count": null,
   "id": "01fb9107",
   "metadata": {},
   "outputs": [],
   "source": []
  }
 ],
 "metadata": {
  "kernelspec": {
   "display_name": "Python 3 (ipykernel)",
   "language": "python",
   "name": "python3"
  },
  "language_info": {
   "codemirror_mode": {
    "name": "ipython",
    "version": 3
   },
   "file_extension": ".py",
   "mimetype": "text/x-python",
   "name": "python",
   "nbconvert_exporter": "python",
   "pygments_lexer": "ipython3",
   "version": "3.8.10"
  }
 },
 "nbformat": 4,
 "nbformat_minor": 5
}
